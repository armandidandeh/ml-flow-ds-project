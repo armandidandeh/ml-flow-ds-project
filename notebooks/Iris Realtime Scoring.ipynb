{
 "cells": [
  {
   "cell_type": "code",
   "execution_count": 1,
   "metadata": {},
   "outputs": [],
   "source": [
    "# %load snippet/default_notebook_setup.py\n",
    "## Not all libraries support reloads. This might break things.\n",
    "## https://ipython.org/ipython-doc/3/config/extensions/autoreload.html\n",
    "## use %autoreload 1 and %aimport project for selective reloads\n",
    "\n",
    "%reload_ext autoreload\n",
    "%autoreload 1\n",
    "\n",
    "## Load environment variables from our .env file\n",
    "#%load_ext dotenv\n",
    "#%dotenv\n",
    "\n",
    "# Add the jupyter home directory to the python path\n",
    "# to find our project code base for imports\n",
    "import sys\n",
    "sys.path.append('/home/jovyan')\n"
   ]
  },
  {
   "cell_type": "code",
   "execution_count": 2,
   "metadata": {},
   "outputs": [],
   "source": [
    "import os\n",
    "os.environ['FEATURE_MODEL_URI'] = 'http://iris-features:8080/models/feature-pipeline/transform'\n",
    "os.environ['CLASSIFIER_MODEL_URI'] = 'http://iris-classifier:8080/invocations'"
   ]
  },
  {
   "cell_type": "code",
   "execution_count": 3,
   "metadata": {},
   "outputs": [],
   "source": [
    "import project.model.realtime_score as model"
   ]
  },
  {
   "cell_type": "code",
   "execution_count": 4,
   "metadata": {
    "scrolled": false
   },
   "outputs": [
    {
     "name": "stdout",
     "output_type": "stream",
     "text": [
      "15.2 ms ± 565 µs per loop (mean ± std. dev. of 7 runs, 100 loops each)\n"
     ]
    }
   ],
   "source": [
    "%%timeit\n",
    "model.score(\n",
    "    [\n",
    "        [5.1,3.5,1.4,0.2],\n",
    "        [6.1,2.8,4.7,1.2],\n",
    "        [7.9,3.8,6.4,2.0]\n",
    "    ]\n",
    ")"
   ]
  },
  {
   "cell_type": "code",
   "execution_count": 5,
   "metadata": {},
   "outputs": [
    {
     "data": {
      "text/plain": [
       "['Iris-setosa', 'Iris-versicolor', 'Iris-virginica']"
      ]
     },
     "execution_count": 5,
     "metadata": {},
     "output_type": "execute_result"
    }
   ],
   "source": [
    "model.score(\n",
    "    [\n",
    "        [5.1,3.5,1.4,0.2],\n",
    "        [6.1,2.8,4.7,1.2],\n",
    "        [7.9,3.8,6.4,2.0]\n",
    "    ]\n",
    ")"
   ]
  },
  {
   "cell_type": "code",
   "execution_count": null,
   "metadata": {},
   "outputs": [],
   "source": []
  }
 ],
 "metadata": {
  "kernelspec": {
   "display_name": "Python 3",
   "language": "python",
   "name": "python3"
  },
  "language_info": {
   "codemirror_mode": {
    "name": "ipython",
    "version": 3
   },
   "file_extension": ".py",
   "mimetype": "text/x-python",
   "name": "python",
   "nbconvert_exporter": "python",
   "pygments_lexer": "ipython3",
   "version": "3.7.3"
  }
 },
 "nbformat": 4,
 "nbformat_minor": 2
}
