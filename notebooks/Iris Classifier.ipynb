{
 "cells": [
  {
   "cell_type": "code",
   "execution_count": 1,
   "metadata": {},
   "outputs": [],
   "source": [
    "# %load snippet/default_notebook_setup.py\n",
    "%reload_ext autoreload\n",
    "%autoreload 2\n",
    "%load_ext dotenv\n",
    "\n",
    "import sys\n",
    "sys.path.append('/home/jovyan')\n",
    "\n",
    "%dotenv"
   ]
  },
  {
   "cell_type": "code",
   "execution_count": 2,
   "metadata": {},
   "outputs": [],
   "source": [
    "# %load snippet/default_spark.py\n",
    "import pyspark\n",
    "from pyspark.sql import SparkSession, Window, DataFrame\n",
    "import pyspark.sql.functions as F\n",
    "import pyspark.sql.types as T\n",
    "\n",
    "spark = (\n",
    "    SparkSession.builder\n",
    "    .config('spark.jars.packages', 'ml.combust.mleap:mleap-spark-base_2.11:0.14.0,ml.combust.mleap:mleap-spark_2.11:0.14.0')\n",
    "    .getOrCreate()\n",
    ")"
   ]
  },
  {
   "cell_type": "markdown",
   "metadata": {},
   "source": [
    "# Load Training Data\n",
    "\n",
    "we load the training data using our project code base"
   ]
  },
  {
   "cell_type": "code",
   "execution_count": 3,
   "metadata": {},
   "outputs": [],
   "source": [
    "from project.data import features"
   ]
  },
  {
   "cell_type": "code",
   "execution_count": 4,
   "metadata": {},
   "outputs": [
    {
     "data": {
      "text/html": [
       "<div>\n",
       "<style scoped>\n",
       "    .dataframe tbody tr th:only-of-type {\n",
       "        vertical-align: middle;\n",
       "    }\n",
       "\n",
       "    .dataframe tbody tr th {\n",
       "        vertical-align: top;\n",
       "    }\n",
       "\n",
       "    .dataframe thead th {\n",
       "        text-align: right;\n",
       "    }\n",
       "</style>\n",
       "<table border=\"1\" class=\"dataframe\">\n",
       "  <thead>\n",
       "    <tr style=\"text-align: right;\">\n",
       "      <th></th>\n",
       "      <th>class</th>\n",
       "      <th>class_index</th>\n",
       "      <th>features</th>\n",
       "    </tr>\n",
       "  </thead>\n",
       "  <tbody>\n",
       "    <tr>\n",
       "      <th>0</th>\n",
       "      <td>Iris-setosa</td>\n",
       "      <td>0.0</td>\n",
       "      <td>[-0.8976738791967643, 0.8058183933921671, -0.7...</td>\n",
       "    </tr>\n",
       "    <tr>\n",
       "      <th>1</th>\n",
       "      <td>Iris-setosa</td>\n",
       "      <td>0.0</td>\n",
       "      <td>[-1.1392004834649512, 1.2977777415267786, -1.4...</td>\n",
       "    </tr>\n",
       "    <tr>\n",
       "      <th>2</th>\n",
       "      <td>Iris-setosa</td>\n",
       "      <td>0.0</td>\n",
       "      <td>[-1.3807270877331392, 1.906407290800036, -2.63...</td>\n",
       "    </tr>\n",
       "    <tr>\n",
       "      <th>3</th>\n",
       "      <td>Iris-setosa</td>\n",
       "      <td>0.0</td>\n",
       "      <td>[-1.5014903898672336, 2.254473390863657, -3.38...</td>\n",
       "    </tr>\n",
       "    <tr>\n",
       "      <th>4</th>\n",
       "      <td>Iris-setosa</td>\n",
       "      <td>0.0</td>\n",
       "      <td>[-1.0184371813308577, 1.0372142923171424, -1.0...</td>\n",
       "    </tr>\n",
       "  </tbody>\n",
       "</table>\n",
       "</div>"
      ],
      "text/plain": [
       "         class  class_index                                           features\n",
       "0  Iris-setosa          0.0  [-0.8976738791967643, 0.8058183933921671, -0.7...\n",
       "1  Iris-setosa          0.0  [-1.1392004834649512, 1.2977777415267786, -1.4...\n",
       "2  Iris-setosa          0.0  [-1.3807270877331392, 1.906407290800036, -2.63...\n",
       "3  Iris-setosa          0.0  [-1.5014903898672336, 2.254473390863657, -3.38...\n",
       "4  Iris-setosa          0.0  [-1.0184371813308577, 1.0372142923171424, -1.0..."
      ]
     },
     "execution_count": 4,
     "metadata": {},
     "output_type": "execute_result"
    }
   ],
   "source": [
    "data = features.load_iris_features(3, '../').toPandas()\n",
    "data['features'] = data['features'].apply(lambda x: x.toArray())\n",
    "data.head()"
   ]
  },
  {
   "cell_type": "markdown",
   "metadata": {},
   "source": [
    "# Train and log a model to Mlflow\n",
    "\n",
    "There is no difference between a spark pipline model and a sklearn model when it comes to Mlflow.\n",
    "Simply log the trained model."
   ]
  },
  {
   "cell_type": "code",
   "execution_count": 32,
   "metadata": {},
   "outputs": [],
   "source": [
    "import os\n",
    "from sklearn.model_selection import train_test_split\n",
    "from sklearn.linear_model import LogisticRegression\n",
    "from sklearn.metrics import f1_score\n",
    "import numpy as np\n",
    "import mlflow\n",
    "import mlflow.sklearn"
   ]
  },
  {
   "cell_type": "code",
   "execution_count": 33,
   "metadata": {},
   "outputs": [],
   "source": [
    "experiment = 'iris_classification'\n",
    "mlflow.set_tracking_uri(os.environ['MLFLOW_TRACKING_URI'])\n",
    "mlflow.set_experiment(experiment)"
   ]
  },
  {
   "cell_type": "code",
   "execution_count": 34,
   "metadata": {},
   "outputs": [],
   "source": [
    "X_train, X_test, y_train, y_test = train_test_split(\n",
    "    np.stack(data['features'].values), data['class'].values, \n",
    "    test_size=0.25, random_state=0, stratify=data['class'].values\n",
    ")"
   ]
  },
  {
   "cell_type": "code",
   "execution_count": 35,
   "metadata": {},
   "outputs": [
    {
     "name": "stdout",
     "output_type": "stream",
     "text": [
      "<RunInfo: artifact_uri='s3://artifacts/1/6424c6b1d9d44f419edba6ae764fab5c/artifacts', end_time=None, experiment_id='1', lifecycle_stage='active', run_id='6424c6b1d9d44f419edba6ae764fab5c', run_uuid='6424c6b1d9d44f419edba6ae764fab5c', start_time=1572806695864, status='RUNNING', user_id='jovyan'>\n"
     ]
    }
   ],
   "source": [
    "with mlflow.start_run() as run:\n",
    "    model = LogisticRegression(\n",
    "        C=0.1, solver='saga', multi_class='multinomial', \n",
    "        penalty='l1', max_iter=2000\n",
    "    )\n",
    "    mlflow.log_param('C', 0.1)\n",
    "    mlflow.log_param('penalty', 'l1')\n",
    "    mlflow.log_param('max_iter', 2000)\n",
    "    mlflow.log_param('return_type', 'string')\n",
    "    model.fit(X_train, y_train)\n",
    "    f1score = f1_score(y_test, model.predict(X_test), average='macro')\n",
    "    mlflow.log_metric(\"f1_score\", f1score)\n",
    "    mlflow.log_metric(\"n_iter_\", model.n_iter_[0])\n",
    "    mlflow.sklearn.log_model(model, 'iris_classification')\n",
    "    run_id = run.info.run_id\n",
    "    print(run.info)"
   ]
  },
  {
   "cell_type": "code",
   "execution_count": null,
   "metadata": {},
   "outputs": [],
   "source": []
  },
  {
   "cell_type": "code",
   "execution_count": 36,
   "metadata": {},
   "outputs": [
    {
     "name": "stdout",
     "output_type": "stream",
     "text": [
      "<Run: data=<RunData: metrics={'f1_score': 0.9458874458874459, 'n_iter_': 1401.0}, params={'C': '0.1', 'max_iter': '2000', 'penalty': 'l1'}, tags={'mlflow.source.name': '/opt/conda/lib/python3.7/site-packages/ipykernel_launcher.py',\n",
      " 'mlflow.source.type': 'LOCAL',\n",
      " 'mlflow.user': 'jovyan'}>, info=<RunInfo: artifact_uri='s3://artifacts/1/6424c6b1d9d44f419edba6ae764fab5c/artifacts', end_time=1572806696366, experiment_id='1', lifecycle_stage='active', run_id='6424c6b1d9d44f419edba6ae764fab5c', run_uuid='6424c6b1d9d44f419edba6ae764fab5c', start_time=1572806695864, status='FINISHED', user_id='jovyan'>>\n"
     ]
    }
   ],
   "source": [
    "c = mlflow.tracking.MlflowClient()\n",
    "print(c.get_run(run_id))"
   ]
  },
  {
   "cell_type": "code",
   "execution_count": null,
   "metadata": {},
   "outputs": [],
   "source": []
  }
 ],
 "metadata": {
  "kernelspec": {
   "display_name": "Python 3",
   "language": "python",
   "name": "python3"
  },
  "language_info": {
   "codemirror_mode": {
    "name": "ipython",
    "version": 3
   },
   "file_extension": ".py",
   "mimetype": "text/x-python",
   "name": "python",
   "nbconvert_exporter": "python",
   "pygments_lexer": "ipython3",
   "version": "3.7.3"
  }
 },
 "nbformat": 4,
 "nbformat_minor": 2
}
